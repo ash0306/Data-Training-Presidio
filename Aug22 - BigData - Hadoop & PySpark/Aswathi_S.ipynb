{
 "cells": [
  {
   "cell_type": "code",
   "execution_count": 1,
   "id": "405a3456-c8a9-44ab-8b2d-1f1ce6310e34",
   "metadata": {},
   "outputs": [
    {
     "name": "stdout",
     "output_type": "stream",
     "text": [
      "Defaulting to user installation because normal site-packages is not writeable\n",
      "Requirement already satisfied: pyspark in c:\\users\\vc\\appdata\\roaming\\python\\python312\\site-packages (3.5.2)\n",
      "Requirement already satisfied: py4j==0.10.9.7 in c:\\users\\vc\\appdata\\roaming\\python\\python312\\site-packages (from pyspark) (0.10.9.7)\n",
      "Note: you may need to restart the kernel to use updated packages.\n"
     ]
    }
   ],
   "source": [
    "pip install pyspark"
   ]
  },
  {
   "cell_type": "code",
   "execution_count": 50,
   "id": "175cbc40-7e7c-4e72-b446-842d96cc988c",
   "metadata": {},
   "outputs": [],
   "source": [
    "from pyspark.sql import SparkSession\n",
    "import pyspark.sql.functions as F\n",
    "from pyspark.sql import types \n",
    "from pyspark.sql.window import Window\n",
    "import calendar\n",
    "import datetime"
   ]
  },
  {
   "cell_type": "code",
   "execution_count": 44,
   "id": "762edb59-1624-491c-a421-c9203ba4efb1",
   "metadata": {},
   "outputs": [],
   "source": [
    "spark = SparkSession.builder.appName(\"dataTrainingCovidTask\").config(\"spark.network.timeout\", \"800s\").config(\"spark.executor.heartbeatInterval\", \"60s\").getOrCreate()"
   ]
  },
  {
   "cell_type": "code",
   "execution_count": 45,
   "id": "29e0f94a-8572-467e-b348-6f3eae68b567",
   "metadata": {},
   "outputs": [],
   "source": [
    "filepath = \"covid-data.csv\"\n",
    "data = spark.read.format(\"csv\") \\\n",
    "            .option(\"header\", True) \\\n",
    "            .option(\"multiLine\", True) \\\n",
    "            .option(\"ignoreLeadingWhiteSpace\",True) \\\n",
    "            .option(\"ignoreTrailingWhiteSpace\",True) \\\n",
    "            .option(\"escape\", \"\\\\\") \\\n",
    "            .option(\"quote\", \"\\\"\") \\\n",
    "            .load(filepath)"
   ]
  },
  {
   "cell_type": "code",
   "execution_count": 46,
   "id": "771c710e-d631-4263-92f8-7136e1070f29",
   "metadata": {},
   "outputs": [
    {
     "name": "stdout",
     "output_type": "stream",
     "text": [
      "root\n",
      " |-- Date: string (nullable = true)\n",
      " |-- Name of State / UT: string (nullable = true)\n",
      " |-- Latitude: string (nullable = true)\n",
      " |-- Longitude: string (nullable = true)\n",
      " |-- Total Confirmed cases: string (nullable = true)\n",
      " |-- Death: string (nullable = true)\n",
      " |-- Cured/Discharged/Migrated: string (nullable = true)\n",
      " |-- New cases: string (nullable = true)\n",
      " |-- New deaths: string (nullable = true)\n",
      " |-- New recovered: string (nullable = true)\n",
      "\n"
     ]
    }
   ],
   "source": [
    "data.printSchema()"
   ]
  },
  {
   "cell_type": "markdown",
   "id": "0b514edc-0514-4631-9beb-aa7946c6e31a",
   "metadata": {},
   "source": [
    "# 1. Convert all state names to lowercase"
   ]
  },
  {
   "cell_type": "code",
   "execution_count": 23,
   "id": "429b6992-703f-4252-ac6d-fb5851a6009e",
   "metadata": {},
   "outputs": [
    {
     "name": "stdout",
     "output_type": "stream",
     "text": [
      "+--------------------+\n",
      "|     state_lowercase|\n",
      "+--------------------+\n",
      "|               delhi|\n",
      "|         maharashtra|\n",
      "|           meghalaya|\n",
      "|              odisha|\n",
      "|             haryana|\n",
      "|         west bengal|\n",
      "|                 goa|\n",
      "|              punjab|\n",
      "|   jammu and kashmir|\n",
      "|dadra and nagar h...|\n",
      "|           karnataka|\n",
      "|      andhra pradesh|\n",
      "|           telangana|\n",
      "|            nagaland|\n",
      "|               bihar|\n",
      "|      madhya pradesh|\n",
      "|           jharkhand|\n",
      "|               assam|\n",
      "|              kerala|\n",
      "|          tamil nadu|\n",
      "+--------------------+\n",
      "only showing top 20 rows\n",
      "\n"
     ]
    }
   ],
   "source": [
    "lowercase_states = data.withColumn(\"state_lowercase\", F.lower(F.col(\"Name of State / UT\")))\n",
    "lowercase_states.select(\"state_lowercase\").distinct().show()"
   ]
  },
  {
   "cell_type": "markdown",
   "id": "a1899726-b711-4d8e-b9d8-4478b06c73c3",
   "metadata": {},
   "source": [
    "# 2. Find the day with the greatest number of covid cases"
   ]
  },
  {
   "cell_type": "code",
   "execution_count": 25,
   "id": "699028ed-73a1-44f8-86e8-cf8ae2e7fab2",
   "metadata": {},
   "outputs": [
    {
     "name": "stdout",
     "output_type": "stream",
     "text": [
      "+----------+---------------+\n",
      "|      Date|total_cases_sum|\n",
      "+----------+---------------+\n",
      "|2020-08-06|      1964536.0|\n",
      "+----------+---------------+\n",
      "\n"
     ]
    }
   ],
   "source": [
    "daily_cases = data.groupBy(\"Date\").agg(F.sum(\"Total Confirmed cases\").alias(\"total_cases_sum\"))\n",
    "window_daily_cases = Window.orderBy(F.col(\"total_cases_sum\").desc())\n",
    "most_cases_day = daily_cases.withColumn(\"rank\", F.row_number().over(window_daily_cases)).filter(F.col('rank') == 1).drop('rank')\n",
    "\n",
    "most_cases_day.show()"
   ]
  },
  {
   "cell_type": "markdown",
   "id": "4d17e236-804c-4a37-b6fc-e71fad134b71",
   "metadata": {},
   "source": [
    "# 3. Find the state with the second-largest number of COVID cases"
   ]
  },
  {
   "cell_type": "code",
   "execution_count": 28,
   "id": "3a104a54-3734-447d-8b08-d02cfe74dd26",
   "metadata": {},
   "outputs": [
    {
     "name": "stdout",
     "output_type": "stream",
     "text": [
      "+------------------+---------------+\n",
      "|Name of State / UT|total_cases_sum|\n",
      "+------------------+---------------+\n",
      "|        Tamil Nadu|      7847083.0|\n",
      "+------------------+---------------+\n",
      "\n"
     ]
    }
   ],
   "source": [
    "state_cases = data.groupBy(\"Name of State / UT\").agg(F.sum(\"Total Confirmed cases\").alias(\"total_cases_sum\"))\n",
    "window_state_cases = Window.orderBy(F.col(\"total_cases_sum\").desc())\n",
    "second_largest_state = state_cases.withColumn(\"rank\", F.row_number().over(window_state_cases)).filter(F.col('rank') == 2).drop('rank')\n",
    "second_largest_state.show()"
   ]
  },
  {
   "cell_type": "markdown",
   "id": "0edd9c5d-b006-442d-99f0-2d0838bdee0f",
   "metadata": {},
   "source": [
    "# 4. Find which Union Territory has the least number of deaths"
   ]
  },
  {
   "cell_type": "code",
   "execution_count": 32,
   "id": "a85e3932-a336-42db-99cb-49c8c9ff405c",
   "metadata": {},
   "outputs": [
    {
     "name": "stdout",
     "output_type": "stream",
     "text": [
      "+------------------------------------+------------+\n",
      "|Name of State / UT                  |total_deaths|\n",
      "+------------------------------------+------------+\n",
      "|Union Territory of Jammu and Kashmir|0.0         |\n",
      "+------------------------------------+------------+\n",
      "\n"
     ]
    }
   ],
   "source": [
    "union_territories = data.filter(F.col(\"Name of State / UT\").like(\"Union Territory%\"))\n",
    "ut_deaths = union_territories.groupBy(\"Name of State / UT\").agg(F.sum(\"Death\").alias(\"total_deaths\"))\n",
    "window_ut_deaths = Window.orderBy(F.col(\"total_deaths\"))\n",
    "least_deaths_ut = ut_deaths.withColumn(\"rank\", F.row_number().over(window_ut_deaths)).filter(F.col('rank') == 1).drop('rank')\n",
    "least_deaths_ut.show(truncate=False)"
   ]
  },
  {
   "cell_type": "markdown",
   "id": "45822bb2-9668-4a58-ad6e-662404237820",
   "metadata": {},
   "source": [
    "# 5. Find the state with the lowest Death to Total Confirmed Cases ratio"
   ]
  },
  {
   "cell_type": "code",
   "execution_count": 33,
   "id": "20a8150f-60ce-4bd1-9fdf-8afdeed68b07",
   "metadata": {},
   "outputs": [
    {
     "name": "stdout",
     "output_type": "stream",
     "text": [
      "+------------------+---------+\n",
      "|Name of State / UT|avg_ratio|\n",
      "+------------------+---------+\n",
      "|Mizoram           |0.0      |\n",
      "+------------------+---------+\n",
      "\n"
     ]
    }
   ],
   "source": [
    "death_case_ratio = data.withColumn(\"death_to_case_ratio\", F.col(\"Death\") / F.col(\"Total Confirmed cases\"))\n",
    "state_ratio = death_case_ratio.groupBy(\"Name of State / UT\").agg(F.avg(\"death_to_case_ratio\").alias(\"avg_ratio\"))\n",
    "window_ratio = Window.orderBy(F.col(\"avg_ratio\"))\n",
    "lowest_ratio_state = state_ratio.withColumn(\"rank\", F.row_number().over(window_ratio)).filter(F.col('rank') == 1).drop('rank')\n",
    "lowest_ratio_state.show(truncate=False)"
   ]
  },
  {
   "cell_type": "markdown",
   "id": "0eaed9e9-79d1-407c-b668-f17a8eee3853",
   "metadata": {},
   "source": [
    "# 6. Find the month with the most newly recovered cases"
   ]
  },
  {
   "cell_type": "code",
   "execution_count": 74,
   "id": "afe55ac4-18a5-41bb-ba59-5ff7819616f6",
   "metadata": {},
   "outputs": [
    {
     "name": "stdout",
     "output_type": "stream",
     "text": [
      "+-----+-------------------+\n",
      "|Month|sum_newly_recovered|\n",
      "+-----+-------------------+\n",
      "|July |722983.0           |\n",
      "+-----+-------------------+\n",
      "\n"
     ]
    }
   ],
   "source": [
    "df_with_month = data.withColumn(\"Month\", F.date_format(F.col(\"Date\"), \"MMMM\"))\n",
    "\n",
    "monthly_recovered = (\n",
    "    df_with_month\n",
    "    .groupBy(\"Month\")\n",
    "    .agg(F.sum(\"New recovered\").alias(\"sum_newly_recovered\"))\n",
    "    .orderBy(F.col(\"sum_newly_recovered\").desc())\n",
    ")\n",
    "max_recovered_row = monthly_recovered.limit(1)\n",
    "max_recovered_row.show(truncate=False)"
   ]
  }
 ],
 "metadata": {
  "kernelspec": {
   "display_name": "Python 3 (ipykernel)",
   "language": "python",
   "name": "python3"
  },
  "language_info": {
   "codemirror_mode": {
    "name": "ipython",
    "version": 3
   },
   "file_extension": ".py",
   "mimetype": "text/x-python",
   "name": "python",
   "nbconvert_exporter": "python",
   "pygments_lexer": "ipython3",
   "version": "3.12.4"
  }
 },
 "nbformat": 4,
 "nbformat_minor": 5
}
